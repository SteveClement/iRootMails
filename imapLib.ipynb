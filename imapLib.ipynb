{
 "cells": [
  {
   "cell_type": "code",
   "execution_count": 1,
   "metadata": {},
   "outputs": [],
   "source": [
    "from config import *\n",
    "import imaplib, ssl, difflib, email\n",
    "from templates.FreeBSD.hosts import *"
   ]
  },
  {
   "cell_type": "code",
   "execution_count": 2,
   "metadata": {},
   "outputs": [
    {
     "name": "stdout",
     "output_type": "stream",
     "text": [
      "Connecting with URI: imaps://rootmails@pid.lu:f3e3484b4dbea8ec3bbb4fe1da4a5f12@mail.mbox.lu\n"
     ]
    }
   ],
   "source": [
    "if DEBUG:\n",
    "    print(f\"Connecting with URI: {URI}\")"
   ]
  },
  {
   "cell_type": "code",
   "execution_count": 3,
   "metadata": {},
   "outputs": [
    {
     "name": "stdout",
     "output_type": "stream",
     "text": [
      "['Return-Path', 'Received', 'Received', 'Received', 'Received', 'Received', 'Received', 'Delivered-To', 'Received', 'Date', 'Message-ID', 'From', 'To', 'Subject', 'Authentication-Results', 'X-Newsl', 'X-NiceBayes', 'X-Spamc', 'X-MailCleaner-Information', 'X-MailCleaner-ID', 'X-MailCleaner', 'X-MailCleaner-SpamCheck', 'X-MailCleaner-ReportURL']\n",
      "['root@aggli.localhost.lu']\n"
     ]
    }
   ],
   "source": [
    "with open('/Users/steve/code/iRootMails/templates/FreeBSD/11.1/daily-run.tpl','r') as f:\n",
    "    msg = email.message_from_string(f.read())\n",
    "    print(list(msg.keys()))\n",
    "    print(msg['from'].split())"
   ]
  },
  {
   "cell_type": "code",
   "execution_count": 4,
   "metadata": {},
   "outputs": [
    {
     "name": "stdout",
     "output_type": "stream",
     "text": [
      "[{'hostname': 'aggli', 'domain': 'localhost.lu', 'version': '11.1'}, {'hostname': 'tart', 'domain': 'localhost.lu', 'version': '11.1'}, {'hostname': 'monitor', 'domain': 'localhost.lu', 'version': '11.1'}]\n",
      "{'hostname': 'aggli', 'domain': 'localhost.lu', 'version': '11.1'}\n"
     ]
    }
   ],
   "source": [
    "print(hosts)\n",
    "print(aggli)"
   ]
  },
  {
   "cell_type": "code",
   "execution_count": 5,
   "metadata": {},
   "outputs": [
    {
     "name": "stdout",
     "output_type": "stream",
     "text": [
      "Total Hosts: 3\n",
      "0 - aggli.localhost.lu\n",
      "1 - tart.localhost.lu\n",
      "2 - monitor.localhost.lu\n"
     ]
    }
   ],
   "source": [
    "numHosts = len(hosts)\n",
    "print(f'Total Hosts: {numHosts}')\n",
    "for i in range(numHosts):\n",
    "    fqdn = hosts[i]['hostname'] + '.' + hosts[i]['domain']\n",
    "    print(f'{i} - {fqdn}')"
   ]
  },
  {
   "cell_type": "code",
   "execution_count": null,
   "metadata": {
    "collapsed": true
   },
   "outputs": [],
   "source": [
    "try:\n",
    "    M = imaplib.IMAP4(hostname)\n",
    "    context = ssl.create_default_context()\n",
    "    M.starttls(context)\n",
    "    M.login(username, password)\n",
    "    M.select()\n",
    "except Error as e:\n",
    "    raise(\"Something went wrong during connection\")"
   ]
  },
  {
   "cell_type": "code",
   "execution_count": null,
   "metadata": {
    "collapsed": true
   },
   "outputs": [],
   "source": [
    "typ, data = M.search(None, 'ALL')"
   ]
  },
  {
   "cell_type": "code",
   "execution_count": null,
   "metadata": {
    "collapsed": true
   },
   "outputs": [],
   "source": [
    "data\n",
    "M.list()\n",
    "M.namespace()"
   ]
  },
  {
   "cell_type": "code",
   "execution_count": null,
   "metadata": {
    "collapsed": true
   },
   "outputs": [],
   "source": [
    "data[0].split()"
   ]
  },
  {
   "cell_type": "code",
   "execution_count": null,
   "metadata": {
    "collapsed": true
   },
   "outputs": [],
   "source": [
    "err, count = M.recent()"
   ]
  },
  {
   "cell_type": "code",
   "execution_count": null,
   "metadata": {
    "collapsed": true
   },
   "outputs": [],
   "source": [
    "# https://docs.python.org/3/library/imaplib.html"
   ]
  },
  {
   "cell_type": "code",
   "execution_count": null,
   "metadata": {
    "collapsed": true
   },
   "outputs": [],
   "source": [
    "print(count)"
   ]
  },
  {
   "cell_type": "code",
   "execution_count": null,
   "metadata": {
    "collapsed": true
   },
   "outputs": [],
   "source": [
    "print(err)"
   ]
  },
  {
   "cell_type": "code",
   "execution_count": null,
   "metadata": {
    "collapsed": true
   },
   "outputs": [],
   "source": [
    "for num in data[0].split():\n",
    "    typ, data = M.fetch(num, '(RFC822)')\n",
    "    print('Message %s\\n%s\\n' % (num, data[0][1]))"
   ]
  },
  {
   "cell_type": "code",
   "execution_count": null,
   "metadata": {
    "collapsed": true
   },
   "outputs": [],
   "source": [
    "M.close()\n",
    "M.logout()"
   ]
  }
 ],
 "metadata": {
  "kernelspec": {
   "display_name": "Python 3",
   "language": "python",
   "name": "python3"
  },
  "language_info": {
   "codemirror_mode": {
    "name": "ipython",
    "version": 3
   },
   "file_extension": ".py",
   "mimetype": "text/x-python",
   "name": "python",
   "nbconvert_exporter": "python",
   "pygments_lexer": "ipython3",
   "version": "3.6.2"
  }
 },
 "nbformat": 4,
 "nbformat_minor": 2
}
